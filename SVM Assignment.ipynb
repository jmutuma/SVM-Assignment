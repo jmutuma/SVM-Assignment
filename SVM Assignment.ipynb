{
 "cells": [
  {
   "cell_type": "markdown",
   "id": "e028fa1d",
   "metadata": {},
   "source": [
    "# SVM Assignment\n",
    "## Problem 1: Steepest descent by Lagrange's                                  method of undetermined multipliers\n"
   ]
  },
  {
   "cell_type": "code",
   "execution_count": null,
   "id": "14146b37",
   "metadata": {},
   "outputs": [],
   "source": [
    " for j in range(n_samples): # iterating through the number of samples \n",
    "            lam_j_new = self.lam_sv[j] + self.lr * (1 -  (np.dot(y[j] * self.lam_sv.T, self.kernel(X[j], X)))) # lagrangian method of undetermined multipliers\n",
    "            self.lam_sv[j] = max(0, lam_j_new) # ensuring that only lam_j_new > 0 is returned"
   ]
  },
  {
   "cell_type": "markdown",
   "id": "dfff30b5",
   "metadata": {},
   "source": [
    "### Problem 2: Determination of support vectors"
   ]
  },
  {
   "cell_type": "code",
   "execution_count": null,
   "id": "077f69b0",
   "metadata": {},
   "outputs": [],
   "source": [
    "for i in range(n_samples):\n",
    "            if self.lam_sv[i] > self.threshold: # lagrangian multiplier greater than threshold condition\n",
    "                self.index_support_vectors[self.n_support_vectors] = i # initialize support vector index\n",
    "                self.X_sv[self.n_support_vectors, :] = X[i, :] # initialize the support vector\n",
    "                self.lam_sv[self.n_support_vectors] = self.lam_sv[i]\n",
    "                self.y_sv[self.n_support_vectors] = y[i]\n",
    "                self.n_support_vectors += 1"
   ]
  },
  {
   "cell_type": "markdown",
   "id": "adb1b9db",
   "metadata": {},
   "source": [
    "### Question 3: Presumption"
   ]
  },
  {
   "cell_type": "code",
   "execution_count": null,
   "id": "52292014",
   "metadata": {},
   "outputs": [],
   "source": [
    "# At the time of estimation, the kernel function calculates the features of the data to be estimated and the features of the support vectors. The sign of the obtained y_pred is the classification result.\n",
    "def predict(self, X):\n",
    "        y_pred = np.zeros(X.shape[0])\n",
    "        for i in range(X.shape[0]):\n",
    "             y_pred[i] = np.sign(np.dot(self.lam_sv.T , self.kernel(self.X_sv, X[i])))# return either positive or negative\n",
    "        return y_pred"
   ]
  },
  {
   "cell_type": "markdown",
   "id": "26fb694a",
   "metadata": {},
   "source": [
    "### Question 4: Learning and Estimation"
   ]
  },
  {
   "cell_type": "code",
   "execution_count": 2,
   "id": "03c93eb4",
   "metadata": {},
   "outputs": [],
   "source": [
    "# importing the necessary libraries\n",
    "import numpy as np\n",
    "import pandas as pd\n",
    "import matplotlib.pyplot as plt\n",
    "from matplotlib.colors import ListedColormap"
   ]
  },
  {
   "cell_type": "code",
   "execution_count": 3,
   "id": "ed1dffd1",
   "metadata": {},
   "outputs": [],
   "source": [
    "class ScratchSVMClassifier(): # setting up a class ScratchSVMClassifier\n",
    "    def __init__(self, num_iter, lr, kernel = 'linear', threshold = 1e-5, verbose = False):\n",
    "        self.num_iter = num_iter\n",
    "        self.lr = lr\n",
    "        self.k = kernel\n",
    "        self.threshold = threshold\n",
    "        self.verbose = verbose\n",
    "        self.n_support_vectors = 0\n",
    "        self.index_support_vectors = np.array([])\n",
    "        self.X_sv = np.array([])\n",
    "        self.lam_sv = np.array([])\n",
    "        self.y_sv = np.array([])\n",
    "        \n",
    "    def kernel(self, X1, X2):\n",
    "        if self.k == 'linear':\n",
    "            return np.dot(X1, X2.T)\n",
    "        elif self.k == 'polynomial':\n",
    "            return (np.dot(X1, X2.T) + 1) ** 2\n",
    "        else:\n",
    "            raise ValueError(f\"Invalid kernel: {self.kernel}\")\n",
    "            \n",
    "    def fit(self, X, y, X_val = None, y_val = None):\n",
    "        n_samples, n_features = X.shape\n",
    "        self.n_support_vectors = n_samples\n",
    "        self.index_support_vectors = np.zeros(n_samples)\n",
    "        self.X_sv = np.zeros((n_samples, n_features))\n",
    "        self.lam_sv = np.zeros((n_samples, 1))\n",
    "        self.y_sv = np.zeros((n_samples, 1))\n",
    "        \n",
    "        for j in range(n_samples):\n",
    "            lam_j_new = self.lam_sv[j] + self.lr * (1 -  (np.dot(y[j] * self.lam_sv.T, self.kernel(X[j], X))))\n",
    "            self.lam_sv[j] = max(0, lam_j_new) \n",
    "            \n",
    "        for i in range(n_samples):\n",
    "            self.n_support_vectors = 0\n",
    "            if self.lam_sv[i] > self.threshold:\n",
    "                self.index_support_vectors[self.n_support_vectors] = i\n",
    "                self.X_sv[self.n_support_vectors, :] = X[i, :]\n",
    "                self.lam_sv[self.n_support_vectors] = self.lam_sv[i]\n",
    "                self.y_sv[self.n_support_vectors] = y[i]\n",
    "                self.n_support_vectors += 1\n",
    "                \n",
    "    def predict(self, X):\n",
    "        y_pred = np.zeros(X.shape[0])\n",
    "        for i in range(X.shape[0]):\n",
    "             y_pred[i] = np.sign(np.dot(self.lam_sv.T , self.kernel(self.X_sv, X[i])))# return either positive or negative\n",
    "        return y_pred\n",
    "    "
   ]
  },
  {
   "cell_type": "code",
   "execution_count": 5,
   "id": "ac781ed1",
   "metadata": {},
   "outputs": [],
   "source": [
    "from sklearn.model_selection import train_test_split\n",
    "from sklearn.datasets import load_iris\n",
    "iris = load_iris()\n",
    "X = iris.data[:100,:]\n",
    "y = iris.target[:100]\n",
    "y = np.where(y==0, -1,1)\n",
    "(X_train, X_test, y_train, y_test) = train_test_split(X, y, test_size = 0.2)\n"
   ]
  },
  {
   "cell_type": "code",
   "execution_count": 6,
   "id": "88eee3fb",
   "metadata": {},
   "outputs": [],
   "source": [
    "svc = ScratchSVMClassifier(num_iter=1000000000, lr=0.0001, kernel = 'linear',threshold = 1e-5,verbose=True)\n",
    "svc.fit(X_train, y_train, X_test, y_test)"
   ]
  },
  {
   "cell_type": "code",
   "execution_count": 7,
   "id": "019b6297",
   "metadata": {},
   "outputs": [],
   "source": [
    "y_predsvm = svc.predict(X_test)"
   ]
  },
  {
   "cell_type": "code",
   "execution_count": 8,
   "id": "4a842f37",
   "metadata": {},
   "outputs": [
    {
     "name": "stdout",
     "output_type": "stream",
     "text": [
      "[1. 1. 1. 1. 1. 1. 1. 1. 1. 1. 1. 1. 1. 1. 1. 1. 1. 1. 1. 1.]\n"
     ]
    }
   ],
   "source": [
    "print(y_predsvm)"
   ]
  },
  {
   "cell_type": "code",
   "execution_count": 9,
   "id": "445f451c",
   "metadata": {},
   "outputs": [],
   "source": [
    "def accuracy(y_true, y_pred):\n",
    "    return np.sum(y_true == y_pred)/len(y_true)"
   ]
  },
  {
   "cell_type": "code",
   "execution_count": 10,
   "id": "380be77b",
   "metadata": {},
   "outputs": [
    {
     "data": {
      "text/plain": [
       "0.45"
      ]
     },
     "execution_count": 10,
     "metadata": {},
     "output_type": "execute_result"
    }
   ],
   "source": [
    "accuracy(y_test, y_predsvm)"
   ]
  },
  {
   "cell_type": "markdown",
   "id": "3d502343",
   "metadata": {},
   "source": [
    "## Scikit-Learn Version"
   ]
  },
  {
   "cell_type": "code",
   "execution_count": 11,
   "id": "f7d8c3b4",
   "metadata": {},
   "outputs": [
    {
     "data": {
      "text/html": [
       "<style>#sk-container-id-1 {color: black;background-color: white;}#sk-container-id-1 pre{padding: 0;}#sk-container-id-1 div.sk-toggleable {background-color: white;}#sk-container-id-1 label.sk-toggleable__label {cursor: pointer;display: block;width: 100%;margin-bottom: 0;padding: 0.3em;box-sizing: border-box;text-align: center;}#sk-container-id-1 label.sk-toggleable__label-arrow:before {content: \"▸\";float: left;margin-right: 0.25em;color: #696969;}#sk-container-id-1 label.sk-toggleable__label-arrow:hover:before {color: black;}#sk-container-id-1 div.sk-estimator:hover label.sk-toggleable__label-arrow:before {color: black;}#sk-container-id-1 div.sk-toggleable__content {max-height: 0;max-width: 0;overflow: hidden;text-align: left;background-color: #f0f8ff;}#sk-container-id-1 div.sk-toggleable__content pre {margin: 0.2em;color: black;border-radius: 0.25em;background-color: #f0f8ff;}#sk-container-id-1 input.sk-toggleable__control:checked~div.sk-toggleable__content {max-height: 200px;max-width: 100%;overflow: auto;}#sk-container-id-1 input.sk-toggleable__control:checked~label.sk-toggleable__label-arrow:before {content: \"▾\";}#sk-container-id-1 div.sk-estimator input.sk-toggleable__control:checked~label.sk-toggleable__label {background-color: #d4ebff;}#sk-container-id-1 div.sk-label input.sk-toggleable__control:checked~label.sk-toggleable__label {background-color: #d4ebff;}#sk-container-id-1 input.sk-hidden--visually {border: 0;clip: rect(1px 1px 1px 1px);clip: rect(1px, 1px, 1px, 1px);height: 1px;margin: -1px;overflow: hidden;padding: 0;position: absolute;width: 1px;}#sk-container-id-1 div.sk-estimator {font-family: monospace;background-color: #f0f8ff;border: 1px dotted black;border-radius: 0.25em;box-sizing: border-box;margin-bottom: 0.5em;}#sk-container-id-1 div.sk-estimator:hover {background-color: #d4ebff;}#sk-container-id-1 div.sk-parallel-item::after {content: \"\";width: 100%;border-bottom: 1px solid gray;flex-grow: 1;}#sk-container-id-1 div.sk-label:hover label.sk-toggleable__label {background-color: #d4ebff;}#sk-container-id-1 div.sk-serial::before {content: \"\";position: absolute;border-left: 1px solid gray;box-sizing: border-box;top: 0;bottom: 0;left: 50%;z-index: 0;}#sk-container-id-1 div.sk-serial {display: flex;flex-direction: column;align-items: center;background-color: white;padding-right: 0.2em;padding-left: 0.2em;position: relative;}#sk-container-id-1 div.sk-item {position: relative;z-index: 1;}#sk-container-id-1 div.sk-parallel {display: flex;align-items: stretch;justify-content: center;background-color: white;position: relative;}#sk-container-id-1 div.sk-item::before, #sk-container-id-1 div.sk-parallel-item::before {content: \"\";position: absolute;border-left: 1px solid gray;box-sizing: border-box;top: 0;bottom: 0;left: 50%;z-index: -1;}#sk-container-id-1 div.sk-parallel-item {display: flex;flex-direction: column;z-index: 1;position: relative;background-color: white;}#sk-container-id-1 div.sk-parallel-item:first-child::after {align-self: flex-end;width: 50%;}#sk-container-id-1 div.sk-parallel-item:last-child::after {align-self: flex-start;width: 50%;}#sk-container-id-1 div.sk-parallel-item:only-child::after {width: 0;}#sk-container-id-1 div.sk-dashed-wrapped {border: 1px dashed gray;margin: 0 0.4em 0.5em 0.4em;box-sizing: border-box;padding-bottom: 0.4em;background-color: white;}#sk-container-id-1 div.sk-label label {font-family: monospace;font-weight: bold;display: inline-block;line-height: 1.2em;}#sk-container-id-1 div.sk-label-container {text-align: center;}#sk-container-id-1 div.sk-container {/* jupyter's `normalize.less` sets `[hidden] { display: none; }` but bootstrap.min.css set `[hidden] { display: none !important; }` so we also need the `!important` here to be able to override the default hidden behavior on the sphinx rendered scikit-learn.org. See: https://github.com/scikit-learn/scikit-learn/issues/21755 */display: inline-block !important;position: relative;}#sk-container-id-1 div.sk-text-repr-fallback {display: none;}</style><div id=\"sk-container-id-1\" class=\"sk-top-container\"><div class=\"sk-text-repr-fallback\"><pre>SVC()</pre><b>In a Jupyter environment, please rerun this cell to show the HTML representation or trust the notebook. <br />On GitHub, the HTML representation is unable to render, please try loading this page with nbviewer.org.</b></div><div class=\"sk-container\" hidden><div class=\"sk-item\"><div class=\"sk-estimator sk-toggleable\"><input class=\"sk-toggleable__control sk-hidden--visually\" id=\"sk-estimator-id-1\" type=\"checkbox\" checked><label for=\"sk-estimator-id-1\" class=\"sk-toggleable__label sk-toggleable__label-arrow\">SVC</label><div class=\"sk-toggleable__content\"><pre>SVC()</pre></div></div></div></div></div>"
      ],
      "text/plain": [
       "SVC()"
      ]
     },
     "execution_count": 11,
     "metadata": {},
     "output_type": "execute_result"
    }
   ],
   "source": [
    "from sklearn.svm import SVC\n",
    "svm_model = SVC()\n",
    "svm_model.fit(X_train, y_train)"
   ]
  },
  {
   "cell_type": "code",
   "execution_count": 12,
   "id": "a1b52bfd",
   "metadata": {},
   "outputs": [
    {
     "data": {
      "text/plain": [
       "array([ 1, -1, -1,  1,  1,  1,  1,  1, -1, -1,  1,  1, -1, -1, -1, -1,  1,\n",
       "       -1, -1, -1])"
      ]
     },
     "execution_count": 12,
     "metadata": {},
     "output_type": "execute_result"
    }
   ],
   "source": [
    "y_predsvm1 = svm_model.predict(X_test)\n",
    "y_predsvm1"
   ]
  },
  {
   "cell_type": "code",
   "execution_count": 14,
   "id": "f4ec16a1",
   "metadata": {},
   "outputs": [
    {
     "data": {
      "text/plain": [
       "0.45"
      ]
     },
     "execution_count": 14,
     "metadata": {},
     "output_type": "execute_result"
    }
   ],
   "source": [
    "#accuracy score for scratch svm implementation\n",
    "from sklearn.metrics import accuracy_score\n",
    "accuracy_score(y_test, y_predsvm)"
   ]
  },
  {
   "cell_type": "code",
   "execution_count": 15,
   "id": "09349ad0",
   "metadata": {},
   "outputs": [
    {
     "data": {
      "text/plain": [
       "1.0"
      ]
     },
     "execution_count": 15,
     "metadata": {},
     "output_type": "execute_result"
    }
   ],
   "source": [
    "# accuracy score for scikit learn implementation\n",
    "accuracy_score(y_test, y_predsvm1)"
   ]
  },
  {
   "cell_type": "code",
   "execution_count": 16,
   "id": "4a5b37d7",
   "metadata": {},
   "outputs": [
    {
     "data": {
      "text/plain": [
       "0.45"
      ]
     },
     "execution_count": 16,
     "metadata": {},
     "output_type": "execute_result"
    }
   ],
   "source": [
    "#precision score for scratch svm implementation\n",
    "from sklearn.metrics import precision_score\n",
    "precision_score(y_test, y_predsvm) # for precision score best value is 1 worst value is 0"
   ]
  },
  {
   "cell_type": "code",
   "execution_count": 18,
   "id": "64d9638a",
   "metadata": {},
   "outputs": [
    {
     "data": {
      "text/plain": [
       "1.0"
      ]
     },
     "execution_count": 18,
     "metadata": {},
     "output_type": "execute_result"
    }
   ],
   "source": [
    "# precision score for scikit learn implementation\n",
    "precision_score(y_test, y_predsvm1)"
   ]
  },
  {
   "cell_type": "code",
   "execution_count": 20,
   "id": "a0b53b2f",
   "metadata": {},
   "outputs": [
    {
     "data": {
      "text/plain": [
       "1.0"
      ]
     },
     "execution_count": 20,
     "metadata": {},
     "output_type": "execute_result"
    }
   ],
   "source": [
    "# recall score for scratch svm implementation\n",
    "from sklearn.metrics import recall_score\n",
    "recall_score(y_test, y_predsvm) #for recall_score best value is 1 worst value is 0"
   ]
  },
  {
   "cell_type": "code",
   "execution_count": 21,
   "id": "a9bf75bf",
   "metadata": {},
   "outputs": [
    {
     "data": {
      "text/plain": [
       "1.0"
      ]
     },
     "execution_count": 21,
     "metadata": {},
     "output_type": "execute_result"
    }
   ],
   "source": [
    "# recall score for scikit learn implementation\n",
    "recall_score(y_test, y_predsvm1)"
   ]
  },
  {
   "cell_type": "markdown",
   "id": "a2519eda",
   "metadata": {},
   "source": [
    "### Problem 5: Visualization of the decision region"
   ]
  },
  {
   "cell_type": "code",
   "execution_count": 38,
   "id": "a7aeadba",
   "metadata": {},
   "outputs": [],
   "source": [
    "from sklearn.model_selection import train_test_split\n",
    "from sklearn.datasets import load_iris\n",
    "iris = load_iris()\n",
    "X = iris.data[:100,:2]\n",
    "y = iris.target[:100]\n",
    "y = np.where(y==0, -1,1)\n",
    "(X_train, X_test, y_train, y_test) = train_test_split(X, y, test_size = 0.2)\n"
   ]
  },
  {
   "cell_type": "code",
   "execution_count": 39,
   "id": "ee84baf3",
   "metadata": {},
   "outputs": [],
   "source": [
    "svc = ScratchSVMClassifier(num_iter=1000, lr=0.01, kernel = 'linear',threshold = 1e-5,verbose=True)\n",
    "svc.fit(X_train, y_train, X_test, y_test)"
   ]
  },
  {
   "cell_type": "code",
   "execution_count": 40,
   "id": "e9d56aeb",
   "metadata": {},
   "outputs": [],
   "source": [
    "y_predsvm = svc.predict(X_test)"
   ]
  },
  {
   "cell_type": "code",
   "execution_count": 46,
   "id": "730e6993",
   "metadata": {},
   "outputs": [],
   "source": [
    "def decision_region(X,y,svc):\n",
    "    mesh_f0, mesh_f1  = np.meshgrid(\n",
    "        np.arange(np.min(X[:,0]), np.max(X[:,0]), 0.01), \n",
    "        np.arange(np.min(X[:,1]), np.max(X[:,1]), 0.01)\n",
    "    )\n",
    "    mesh = np.c_[np.ravel(mesh_f0),np.ravel(mesh_f1)]\n",
    "    y_pred = svc.predict(mesh).reshape(mesh_f0.shape)\n",
    "    plt.title('decision region')\n",
    "    plt.xlabel('feature0')\n",
    "    plt.ylabel('feature1')\n",
    "    plt.contourf(mesh_f0, mesh_f1, y_pred,cmap=ListedColormap(['pink', 'skyblue']))\n",
    "    plt.contour(mesh_f0, mesh_f1, y_pred,colors='red',levels=[-1, 0, 1],linestyles=['--', '-', '--'])\n",
    "    plt.scatter(X[y==-1][:, 0], X[y==-1][:, 1],label='0')\n",
    "    plt.scatter(X[y==1][:, 0], X[y==1][:, 1],label='1')\n",
    "    plt.scatter(svc.X_sv[:,0],svc.X_sv[:,1], facecolors = 'red' )\n",
    "    plt.legend()\n",
    "    plt.show()"
   ]
  },
  {
   "cell_type": "code",
   "execution_count": 47,
   "id": "5f45b382",
   "metadata": {},
   "outputs": [
    {
     "name": "stderr",
     "output_type": "stream",
     "text": [
      "C:\\Users\\Hp\\AppData\\Local\\Temp\\ipykernel_3500\\2236627404.py:12: UserWarning: No contour levels were found within the data range.\n",
      "  plt.contour(mesh_f0, mesh_f1, y_pred,colors='red',levels=[-1, 0, 1],linestyles=['--', '-', '--'])\n"
     ]
    },
    {
     "data": {
      "image/png": "[encoded data removed]",
      "text/plain": [
       "<Figure size 640x480 with 1 Axes>"
      ]
     },
     "metadata": {},
     "output_type": "display_data"
    }
   ],
   "source": [
    "decision_region(X, y, svc)"
   ]
  },
  {
   "cell_type": "code",
   "execution_count": null,
   "id": "7755c7e3",
   "metadata": {},
   "outputs": [],
   "source": []
  }
 ],
 "metadata": {
  "kernelspec": {
   "display_name": "Python 3 (ipykernel)",
   "language": "python",
   "name": "python3"
  },
  "language_info": {
   "codemirror_mode": {
    "name": "ipython",
    "version": 3
   },
   "file_extension": ".py",
   "mimetype": "text/x-python",
   "name": "python",
   "nbconvert_exporter": "python",
   "pygments_lexer": "ipython3",
   "version": "3.8.10"
  }
 },
 "nbformat": 4,
 "nbformat_minor": 5
}
